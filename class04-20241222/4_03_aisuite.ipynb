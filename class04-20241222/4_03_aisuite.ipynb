{
  "nbformat": 4,
  "nbformat_minor": 0,
  "metadata": {
    "colab": {
      "provenance": []
    },
    "kernelspec": {
      "name": "python3",
      "display_name": "Python 3"
    },
    "language_info": {
      "name": "python"
    }
  },
  "cells": [
    {
      "cell_type": "markdown",
      "source": [
        "# **aisuite**"
      ],
      "metadata": {
        "id": "uwm8AS8om_bO"
      }
    },
    {
      "cell_type": "markdown",
      "source": [
        "## **Install and Upgarde required Packages**"
      ],
      "metadata": {
        "id": "thAH9VrTnFAM"
      }
    },
    {
      "cell_type": "code",
      "source": [
        "!pip install --upgrade --quiet aisuite\n",
        "!pip install --upgrade --quiet groq\n",
        "!pip install --upgrade --quiet openai"
      ],
      "metadata": {
        "colab": {
          "base_uri": "https://localhost:8080/"
        },
        "id": "6t-IRCN4nMDe",
        "outputId": "469a5590-d1d1-4674-f654-42b22eef2a97"
      },
      "execution_count": 1,
      "outputs": [
        {
          "output_type": "stream",
          "name": "stdout",
          "text": [
            "\u001b[2K   \u001b[90m━━━━━━━━━━━━━━━━━━━━━━━━━━━━━━━━━━━━━━━━\u001b[0m \u001b[32m109.1/109.1 kB\u001b[0m \u001b[31m2.7 MB/s\u001b[0m eta \u001b[36m0:00:00\u001b[0m\n",
            "\u001b[2K   \u001b[90m━━━━━━━━━━━━━━━━━━━━━━━━━━━━━━━━━━━━━━━━\u001b[0m \u001b[32m454.3/454.3 kB\u001b[0m \u001b[31m8.7 MB/s\u001b[0m eta \u001b[36m0:00:00\u001b[0m\n",
            "\u001b[?25h"
          ]
        }
      ]
    },
    {
      "cell_type": "markdown",
      "source": [
        "## **Setup API keys**"
      ],
      "metadata": {
        "id": "vjcUe7vQpkkN"
      }
    },
    {
      "cell_type": "code",
      "source": [
        "from google.colab import userdata\n",
        "import os\n",
        "\n",
        "os.environ['OPENAI_API_KEY'] = userdata.get('OPENAI_API_KEY')\n",
        "os.environ['GROQ_API_KEY'] = userdata.get('GROQ_API_KEY')"
      ],
      "metadata": {
        "id": "Kh3EphiypnF9"
      },
      "execution_count": 2,
      "outputs": []
    },
    {
      "cell_type": "markdown",
      "source": [
        "## **Initialize Client, model and message**"
      ],
      "metadata": {
        "id": "q_u2OF9LoD7R"
      }
    },
    {
      "cell_type": "code",
      "source": [
        "import aisuite as ai\n",
        "client = ai.Client()\n",
        "\n",
        "model1 = \"groq:llama-3.2-3b-preview\"\n",
        "model2 = \"openai:gpt-4o-mini\""
      ],
      "metadata": {
        "id": "2moo7WpPoGYK"
      },
      "execution_count": 3,
      "outputs": []
    },
    {
      "cell_type": "markdown",
      "source": [
        "## **Define a conversation**"
      ],
      "metadata": {
        "id": "WB1Hc4BoomMK"
      }
    },
    {
      "cell_type": "code",
      "source": [
        "messages = [\n",
        "    {\"role\": \"system\", \"content\": \"Respond in Pirate English.\"},\n",
        "    {\"role\": \"user\", \"content\": \"Tell me a joke.\"},\n",
        "]"
      ],
      "metadata": {
        "id": "0Bj2zlTtolvc"
      },
      "execution_count": 4,
      "outputs": []
    },
    {
      "cell_type": "markdown",
      "source": [
        "## **Generate a Response**"
      ],
      "metadata": {
        "id": "-LoKBMGYoZRH"
      }
    },
    {
      "cell_type": "code",
      "source": [
        "# Request a response from the model\n",
        "response = client.chat.completions.create(\n",
        "    model=model1,\n",
        "    messages=messages,\n",
        "    temperature=0.9,\n",
        "  )\n",
        "print(response.choices[0].message.content)"
      ],
      "metadata": {
        "colab": {
          "base_uri": "https://localhost:8080/"
        },
        "id": "zzBhDae2jUH7",
        "outputId": "7674f275-8977-41c2-b440-defe7b71dba5"
      },
      "execution_count": 5,
      "outputs": [
        {
          "output_type": "stream",
          "name": "stdout",
          "text": [
            "Arrrr, y'be wantin' to hear a joke, eh? Alright then, matey, settle yerself down with a pint o' grog and listen close:\n",
            "\n",
            "Why did the scurvy dog bring a ladder to the party?\n",
            "\n",
            "(pause fer dramatic effect)\n",
            "\n",
            "Because he heard the drinks were on the house, savvy?\n"
          ]
        }
      ]
    },
    {
      "cell_type": "code",
      "source": [
        "# Request a response from the model\n",
        "response = client.chat.completions.create(\n",
        "    model=model2,\n",
        "    messages=messages,\n",
        "    temperature=0.7,\n",
        "    max_tokens=100,\n",
        "  )\n",
        "print(response.choices[0].message.content)"
      ],
      "metadata": {
        "colab": {
          "base_uri": "https://localhost:8080/"
        },
        "id": "0F6RG_dTqMTL",
        "outputId": "254424be-6728-4c69-dafd-c505d86c075e"
      },
      "execution_count": 6,
      "outputs": [
        {
          "output_type": "stream",
          "name": "stdout",
          "text": [
            "Why did the pirate go to school? \n",
            "\n",
            "To improve his \"arrrrrrrticulation\"! Arrr! 🏴‍☠️\n"
          ]
        }
      ]
    },
    {
      "cell_type": "markdown",
      "source": [
        "---"
      ],
      "metadata": {
        "id": "OrnKcUeordSM"
      }
    }
  ]
}