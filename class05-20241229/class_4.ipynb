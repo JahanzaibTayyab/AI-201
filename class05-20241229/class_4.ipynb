{
  "nbformat": 4,
  "nbformat_minor": 0,
  "metadata": {
    "colab": {
      "provenance": [],
      "gpuType": "T4"
    },
    "kernelspec": {
      "name": "python3",
      "display_name": "Python 3"
    },
    "language_info": {
      "name": "python"
    },
    "accelerator": "GPU"
  },
  "cells": [
    {
      "cell_type": "markdown",
      "source": [
        "# Installing Google-genai"
      ],
      "metadata": {
        "id": "LjOO8DCraJm0"
      }
    },
    {
      "cell_type": "code",
      "execution_count": 1,
      "metadata": {
        "colab": {
          "base_uri": "https://localhost:8080/"
        },
        "id": "WGHBYI4NX8-M",
        "outputId": "6e8a489d-60be-4a10-d7dd-7891c41d2689"
      },
      "outputs": [
        {
          "output_type": "stream",
          "name": "stdout",
          "text": [
            "\u001b[?25l   \u001b[90m━━━━━━━━━━━━━━━━━━━━━━━━━━━━━━━━━━━━━━━━\u001b[0m \u001b[32m0.0/41.3 kB\u001b[0m \u001b[31m?\u001b[0m eta \u001b[36m-:--:--\u001b[0m\r\u001b[2K   \u001b[90m━━━━━━━━━━━━━━━━━━━━━━━━━━━━━━━━━━━━━━━━\u001b[0m \u001b[32m41.3/41.3 kB\u001b[0m \u001b[31m3.7 MB/s\u001b[0m eta \u001b[36m0:00:00\u001b[0m\n",
            "\u001b[?25h"
          ]
        }
      ],
      "source": [
        "%pip install -qU langchain-google-genai"
      ]
    },
    {
      "cell_type": "markdown",
      "source": [
        "### Import the Google_API_Key using [Google AI Studio](https://aistudio.google.com/app/apikey?authuser=0&utm_source=colab.research.google.com&utm_medium=referral&utm_campaign=colab-integration&utm_content=owned-promo)"
      ],
      "metadata": {
        "id": "yHmZJZXWaaR5"
      }
    },
    {
      "cell_type": "code",
      "source": [
        "import os\n",
        "from google.colab import userdata\n",
        "\n",
        "os.environ[\"GOOGLE_API_KEY\"] = userdata.get('GOOGLE_API_KEY')"
      ],
      "metadata": {
        "id": "fs2mAMKbYuHN"
      },
      "execution_count": 10,
      "outputs": []
    },
    {
      "cell_type": "markdown",
      "source": [
        "# Setting the Model"
      ],
      "metadata": {
        "id": "E2EINajXbPjW"
      }
    },
    {
      "cell_type": "code",
      "source": [
        "from langchain_google_genai import ChatGoogleGenerativeAI\n",
        "\n",
        "llm = ChatGoogleGenerativeAI(\n",
        "    model=\"gemini-1.5-pro\"\n",
        "\n",
        ")"
      ],
      "metadata": {
        "id": "8dpD1-HeYDjb"
      },
      "execution_count": 11,
      "outputs": []
    },
    {
      "cell_type": "markdown",
      "source": [
        "# Generating Response"
      ],
      "metadata": {
        "id": "bCuBexgvbUlU"
      }
    },
    {
      "cell_type": "code",
      "source": [
        "ai_msg = llm.invoke('What is Agentic AI')\n",
        "print(ai_msg.content)"
      ],
      "metadata": {
        "colab": {
          "base_uri": "https://localhost:8080/"
        },
        "id": "iwl5UKjHYSz_",
        "outputId": "e8d7f409-ad85-4f4b-94ae-b1622575b505"
      },
      "execution_count": 12,
      "outputs": [
        {
          "output_type": "stream",
          "name": "stdout",
          "text": [
            "Agentic AI refers to a class of artificial intelligence systems designed to act autonomously and proactively on behalf of a user or another system. These AI agents are characterized by their ability to:\n",
            "\n",
            "* **Perceive and interpret their environment:** They can process information from various sources, such as sensors, databases, or user input.\n",
            "* **Make decisions and take actions:** Based on their understanding of the environment and their given objectives, they can choose and execute actions to achieve specific goals.\n",
            "* **Learn and adapt:**  They can improve their performance over time by learning from past experiences and adjusting their strategies.\n",
            "* **Operate autonomously:** They can function independently, without constant human intervention, making decisions and taking actions on their own.\n",
            "* **Represent user interests:** They act as a digital representative of the user, working to achieve their goals and preferences.\n",
            "\n",
            "Key characteristics differentiating Agentic AI from other forms of AI:\n",
            "\n",
            "* **Proactiveness:** Unlike reactive systems that simply respond to inputs, agentic AI anticipates needs and takes initiative.\n",
            "* **Goal-oriented behavior:** They are driven by specific goals and objectives, and their actions are directed towards achieving these goals.\n",
            "* **Autonomy:**  They operate independently, making decisions and taking actions without constant human oversight.\n",
            "* **Personalization:** They can be tailored to individual users, learning their preferences and adapting their behavior accordingly.\n",
            "\n",
            "Examples of Agentic AI applications:\n",
            "\n",
            "* **Personal assistants:** Scheduling appointments, managing emails, making travel arrangements.\n",
            "* **Autonomous vehicles:** Navigating roads, making driving decisions, avoiding obstacles.\n",
            "* **Trading bots:** Analyzing market data, executing trades, managing investment portfolios.\n",
            "* **Smart home systems:** Controlling appliances, adjusting lighting and temperature, enhancing security.\n",
            "* **Robotics:** Performing tasks in manufacturing, healthcare, and other industries.\n",
            "\n",
            "\n",
            "It's important to distinguish between agentic AI and other related concepts:\n",
            "\n",
            "* **General AI:** Agentic AI doesn't necessarily imply general intelligence.  An agent can be highly specialized in a particular domain without possessing broad cognitive abilities.\n",
            "* **Sentience/Consciousness:**  Current agentic AI systems are not sentient or conscious. They operate based on algorithms and data, not subjective experience.\n",
            "\n",
            "The development of agentic AI raises important ethical considerations, including:\n",
            "\n",
            "* **Responsibility and accountability:** Who is responsible when an AI agent makes a mistake or causes harm?\n",
            "* **Transparency and explainability:** How can we understand the decision-making processes of AI agents?\n",
            "* **Bias and fairness:** How can we ensure that AI agents do not perpetuate or amplify existing biases?\n",
            "* **Control and oversight:** How can we maintain control over increasingly autonomous AI systems?\n",
            "\n",
            "\n",
            "These challenges need careful consideration as agentic AI continues to evolve and become more integrated into our lives.\n",
            "\n"
          ]
        }
      ]
    }
  ]
}