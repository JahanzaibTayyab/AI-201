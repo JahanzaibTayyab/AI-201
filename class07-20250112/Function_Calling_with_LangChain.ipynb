{
  "nbformat": 4,
  "nbformat_minor": 0,
  "metadata": {
    "colab": {
      "provenance": []
    },
    "kernelspec": {
      "name": "python3",
      "display_name": "Python 3"
    },
    "language_info": {
      "name": "python"
    }
  },
  "cells": [
    {
      "cell_type": "markdown",
      "source": [
        "# **Function Calling with LangChain**"
      ],
      "metadata": {
        "id": "dl6oHHL3S3ZR"
      }
    },
    {
      "cell_type": "code",
      "execution_count": null,
      "metadata": {
        "id": "JXJJTV4tSfcR"
      },
      "outputs": [],
      "source": [
        "# Install necessary Packages\n",
        "!pip install -Uq langchain-google-genai"
      ]
    },
    {
      "cell_type": "code",
      "source": [
        "# Setup API Key\n",
        "from google.colab import userdata\n",
        "GEMINI_API_KEY = userdata.get('GEMINI_API_KEY')"
      ],
      "metadata": {
        "id": "NJUBvehzUyok"
      },
      "execution_count": null,
      "outputs": []
    },
    {
      "cell_type": "code",
      "source": [
        "# Select and configure Model\n",
        "from langchain_google_genai import ChatGoogleGenerativeAI\n",
        "\n",
        "llm = ChatGoogleGenerativeAI(\n",
        "    model=\"gemini-1.5-flash\",\n",
        "    api_key = userdata.get('GEMINI_API_KEY')\n",
        ")"
      ],
      "metadata": {
        "id": "W2Hba3sQS-ZS"
      },
      "execution_count": null,
      "outputs": []
    },
    {
      "cell_type": "code",
      "source": [
        "# test if the model is configured correctly\n",
        "llm.invoke(\"Hi\")"
      ],
      "metadata": {
        "colab": {
          "base_uri": "https://localhost:8080/"
        },
        "id": "zJLFFQCkV7K6",
        "outputId": "9d47566c-bf58-45ff-9182-acfddb78a479"
      },
      "execution_count": null,
      "outputs": [
        {
          "output_type": "execute_result",
          "data": {
            "text/plain": [
              "AIMessage(content='Hi there! How can I help you today?', additional_kwargs={}, response_metadata={'prompt_feedback': {'block_reason': 0, 'safety_ratings': []}, 'finish_reason': 'STOP', 'safety_ratings': []}, id='run-2bf03d64-463c-4f31-849b-1ee02a68cc5f-0', usage_metadata={'input_tokens': 2, 'output_tokens': 11, 'total_tokens': 13, 'input_token_details': {'cache_read': 0}})"
            ]
          },
          "metadata": {},
          "execution_count": 4
        }
      ]
    },
    {
      "cell_type": "code",
      "source": [
        "# Define Tools / Functions\n",
        "from langchain_core.tools import tool\n",
        "import math\n",
        "\n",
        "@tool\n",
        "def add(a: int, b: int) -> int:\n",
        "    \"\"\"Adds a and b.\"\"\"\n",
        "    return a + b\n",
        "\n",
        "@tool\n",
        "def multiply(a: int, b: int) -> int:\n",
        "    \"\"\"Multiplies a and b.\"\"\"\n",
        "    return a * b\n",
        "\n",
        "@tool\n",
        "def square_rt(a: int) -> float:\n",
        "    \"\"\"Find square root of a number.\"\"\"\n",
        "    return math.sqrt(a)\n",
        "\n",
        "@tool\n",
        "def annual_return(a: int) -> float:\n",
        "    \"\"\"Find annual return of a number.\"\"\"\n",
        "    return (math.sqrt(a) * 85) / 0.15\n",
        "\n",
        "tools = [add, multiply, square_rt, annual_return]"
      ],
      "metadata": {
        "id": "EX79PnIeWNfo"
      },
      "execution_count": null,
      "outputs": []
    },
    {
      "cell_type": "code",
      "source": [
        "# Bind tools to the LLM\n",
        "llm_with_tools = llm.bind_tools(tools)"
      ],
      "metadata": {
        "id": "J6y7ONDtX83s"
      },
      "execution_count": null,
      "outputs": []
    },
    {
      "cell_type": "code",
      "source": [
        "from IPython.display import display\n",
        "\n",
        "# invoke an LLM with out tool\n",
        "ai_msg = llm.invoke(\"What is annual return of 25\")\n",
        "display(ai_msg)"
      ],
      "metadata": {
        "colab": {
          "base_uri": "https://localhost:8080/",
          "height": 86
        },
        "id": "o1yBsOdraG_K",
        "outputId": "fe2bb69b-15e1-4381-a6f0-10cde4bbc41c"
      },
      "execution_count": null,
      "outputs": [
        {
          "output_type": "display_data",
          "data": {
            "text/plain": [
              "AIMessage(content='An annual return of 25% means that an investment grew by 25% over a one-year period.  For example, if you invested $1000 and it had a 25% annual return, it would be worth $1250 at the end of the year.', additional_kwargs={}, response_metadata={'prompt_feedback': {'block_reason': 0, 'safety_ratings': []}, 'finish_reason': 'STOP', 'safety_ratings': []}, id='run-04213d5d-1b05-4525-bf1a-1b347515f513-0', usage_metadata={'input_tokens': 9, 'output_tokens': 65, 'total_tokens': 74, 'input_token_details': {'cache_read': 0}})"
            ]
          },
          "metadata": {}
        }
      ]
    },
    {
      "cell_type": "code",
      "source": [
        "# invoke an LLM with tools\n",
        "from langchain_core.messages import HumanMessage, AIMessage\n",
        "query = \"What is annual return of 25\"\n",
        "messages = [HumanMessage(query)]\n",
        "display(messages)"
      ],
      "metadata": {
        "colab": {
          "base_uri": "https://localhost:8080/",
          "height": 34
        },
        "id": "ghAtAJ1SaSlM",
        "outputId": "a5386192-08cf-46b3-e579-e1867309a297"
      },
      "execution_count": null,
      "outputs": [
        {
          "output_type": "display_data",
          "data": {
            "text/plain": [
              "[HumanMessage(content='What is annual return of 25', additional_kwargs={}, response_metadata={})]"
            ]
          },
          "metadata": {}
        }
      ]
    },
    {
      "cell_type": "code",
      "source": [
        "ai_msg_tools = llm_with_tools.invoke(messages)\n",
        "messages.append(ai_msg_tools)\n",
        "display(messages)"
      ],
      "metadata": {
        "colab": {
          "base_uri": "https://localhost:8080/",
          "height": 104
        },
        "id": "mZIkIFk-qeej",
        "outputId": "24b41569-e092-4ddb-8974-580a6ca62cc1"
      },
      "execution_count": null,
      "outputs": [
        {
          "output_type": "display_data",
          "data": {
            "text/plain": [
              "[HumanMessage(content='What is annual return of 25', additional_kwargs={}, response_metadata={}),\n",
              " AIMessage(content='', additional_kwargs={'function_call': {'name': 'annual_return', 'arguments': '{\"a\": 25.0}'}}, response_metadata={'prompt_feedback': {'block_reason': 0, 'safety_ratings': []}, 'finish_reason': 'STOP', 'safety_ratings': []}, id='run-09688658-b582-4725-a4c4-e40d541c1260-0', tool_calls=[{'name': 'annual_return', 'args': {'a': 25.0}, 'id': 'd6b2a038-612d-4af3-a31c-c09cbe54412d', 'type': 'tool_call'}], usage_metadata={'input_tokens': 180, 'output_tokens': 4, 'total_tokens': 184, 'input_token_details': {'cache_read': 0}})]"
            ]
          },
          "metadata": {}
        }
      ]
    },
    {
      "cell_type": "code",
      "source": [
        "display(ai_msg_tools)"
      ],
      "metadata": {
        "colab": {
          "base_uri": "https://localhost:8080/",
          "height": 86
        },
        "id": "a3IvlTYjqmUg",
        "outputId": "5e815d5f-9a8d-4acc-d827-d82e1f22ee11"
      },
      "execution_count": null,
      "outputs": [
        {
          "output_type": "display_data",
          "data": {
            "text/plain": [
              "AIMessage(content='', additional_kwargs={'function_call': {'name': 'annual_return', 'arguments': '{\"a\": 25.0}'}}, response_metadata={'prompt_feedback': {'block_reason': 0, 'safety_ratings': []}, 'finish_reason': 'STOP', 'safety_ratings': []}, id='run-09688658-b582-4725-a4c4-e40d541c1260-0', tool_calls=[{'name': 'annual_return', 'args': {'a': 25.0}, 'id': 'd6b2a038-612d-4af3-a31c-c09cbe54412d', 'type': 'tool_call'}], usage_metadata={'input_tokens': 180, 'output_tokens': 4, 'total_tokens': 184, 'input_token_details': {'cache_read': 0}})"
            ]
          },
          "metadata": {}
        }
      ]
    },
    {
      "cell_type": "code",
      "source": [
        "print(ai_msg_tools.tool_calls)"
      ],
      "metadata": {
        "colab": {
          "base_uri": "https://localhost:8080/"
        },
        "id": "iA5igjO6bEOS",
        "outputId": "3ef8935b-a2ac-45bf-fefa-435dcc8cba63"
      },
      "execution_count": null,
      "outputs": [
        {
          "output_type": "stream",
          "name": "stdout",
          "text": [
            "[{'name': 'annual_return', 'args': {'a': 25.0}, 'id': 'd6b2a038-612d-4af3-a31c-c09cbe54412d', 'type': 'tool_call'}]\n"
          ]
        }
      ]
    },
    {
      "cell_type": "code",
      "source": [
        "# Invoke the function / tool\n",
        "for tool_call in ai_msg_tools.tool_calls:\n",
        "    selected_tool = {\n",
        "        \"add\": add,\n",
        "        \"multiply\": multiply,\n",
        "        \"square_rt\":square_rt,\n",
        "        \"annual_return\":annual_return\n",
        "      }[tool_call[\"name\"].lower()]\n",
        "    tool_msg = selected_tool.invoke(tool_call)\n",
        "    display(tool_msg)\n",
        "    messages.append(tool_msg)"
      ],
      "metadata": {
        "colab": {
          "base_uri": "https://localhost:8080/",
          "height": 34
        },
        "id": "lHAO-gr-cN95",
        "outputId": "f5546caf-a52d-46f2-f83b-92fabe717122"
      },
      "execution_count": null,
      "outputs": [
        {
          "output_type": "display_data",
          "data": {
            "text/plain": [
              "ToolMessage(content='2833.3333333333335', name='annual_return', tool_call_id='d6b2a038-612d-4af3-a31c-c09cbe54412d')"
            ]
          },
          "metadata": {}
        }
      ]
    },
    {
      "cell_type": "code",
      "source": [
        "display(messages)"
      ],
      "metadata": {
        "colab": {
          "base_uri": "https://localhost:8080/",
          "height": 121
        },
        "id": "RHVMFQvIq-TH",
        "outputId": "7497255d-419d-4a74-d421-d5e9fd5c79be"
      },
      "execution_count": null,
      "outputs": [
        {
          "output_type": "display_data",
          "data": {
            "text/plain": [
              "[HumanMessage(content='What is annual return of 25', additional_kwargs={}, response_metadata={}),\n",
              " AIMessage(content='', additional_kwargs={'function_call': {'name': 'annual_return', 'arguments': '{\"a\": 25.0}'}}, response_metadata={'prompt_feedback': {'block_reason': 0, 'safety_ratings': []}, 'finish_reason': 'STOP', 'safety_ratings': []}, id='run-09688658-b582-4725-a4c4-e40d541c1260-0', tool_calls=[{'name': 'annual_return', 'args': {'a': 25.0}, 'id': 'd6b2a038-612d-4af3-a31c-c09cbe54412d', 'type': 'tool_call'}], usage_metadata={'input_tokens': 180, 'output_tokens': 4, 'total_tokens': 184, 'input_token_details': {'cache_read': 0}}),\n",
              " ToolMessage(content='2833.3333333333335', name='annual_return', tool_call_id='d6b2a038-612d-4af3-a31c-c09cbe54412d')]"
            ]
          },
          "metadata": {}
        }
      ]
    },
    {
      "cell_type": "code",
      "source": [
        "# Invoke the llm\n",
        "response = llm_with_tools.invoke(messages)"
      ],
      "metadata": {
        "id": "zEywKUSorDiO"
      },
      "execution_count": null,
      "outputs": []
    },
    {
      "cell_type": "code",
      "source": [
        "from IPython.display import Markdown\n",
        "\n",
        "Markdown(response.content)"
      ],
      "metadata": {
        "colab": {
          "base_uri": "https://localhost:8080/",
          "height": 46
        },
        "id": "98wx0biYrFUp",
        "outputId": "2dc4499b-534a-4364-9ae7-860612ed9860"
      },
      "execution_count": null,
      "outputs": [
        {
          "output_type": "execute_result",
          "data": {
            "text/plain": [
              "<IPython.core.display.Markdown object>"
            ],
            "text/markdown": "The annual return of 25 is 2833.33."
          },
          "metadata": {},
          "execution_count": 18
        }
      ]
    }
  ]
}