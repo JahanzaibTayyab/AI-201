{
  "nbformat": 4,
  "nbformat_minor": 0,
  "metadata": {
    "colab": {
      "provenance": []
    },
    "kernelspec": {
      "name": "python3",
      "display_name": "Python 3"
    },
    "language_info": {
      "name": "python"
    }
  },
  "cells": [
    {
      "cell_type": "markdown",
      "source": [
        "**1. Installation:**"
      ],
      "metadata": {
        "id": "KxlTkiOIo03W"
      }
    },
    {
      "cell_type": "code",
      "source": [
        "!pip install -q -U litellm"
      ],
      "metadata": {
        "colab": {
          "base_uri": "https://localhost:8080/"
        },
        "id": "v64gxniQo8sR",
        "outputId": "5f1d3fe1-b20e-4fd0-b39d-a929f8d7dccc"
      },
      "execution_count": 27,
      "outputs": [
        {
          "output_type": "stream",
          "name": "stdout",
          "text": [
            "\u001b[?25l   \u001b[90m━━━━━━━━━━━━━━━━━━━━━━━━━━━━━━━━━━━━━━━━\u001b[0m \u001b[32m0.0/456.1 kB\u001b[0m \u001b[31m?\u001b[0m eta \u001b[36m-:--:--\u001b[0m\r\u001b[2K   \u001b[91m━━━━━━━━━━━━\u001b[0m\u001b[91m╸\u001b[0m\u001b[90m━━━━━━━━━━━━━━━━━━━━━━━━━━━\u001b[0m \u001b[32m143.4/456.1 kB\u001b[0m \u001b[31m5.0 MB/s\u001b[0m eta \u001b[36m0:00:01\u001b[0m\r\u001b[2K   \u001b[90m━━━━━━━━━━━━━━━━━━━━━━━━━━━━━━━━━━━━━━━━\u001b[0m \u001b[32m456.1/456.1 kB\u001b[0m \u001b[31m7.3 MB/s\u001b[0m eta \u001b[36m0:00:00\u001b[0m\n",
            "\u001b[?25h"
          ]
        }
      ]
    },
    {
      "cell_type": "markdown",
      "source": [
        "**2. Setting Up Environment Variables:**"
      ],
      "metadata": {
        "id": "A7R7WsSypnp8"
      }
    },
    {
      "cell_type": "code",
      "source": [
        "import os\n",
        "from google.colab import userdata\n",
        "\n",
        "os.environ[\"GEMINI_API_KEY\"] = userdata.get('GEMINI_API_KEY')\n",
        "os.environ['GROQ_API_KEY'] = userdata.get('GROQ_API_KEY')"
      ],
      "metadata": {
        "id": "PZocH6DLpoL2"
      },
      "execution_count": 4,
      "outputs": []
    },
    {
      "cell_type": "markdown",
      "source": [
        "**3. Making a Completion Request:**"
      ],
      "metadata": {
        "id": "cJRCkavhsCSc"
      }
    },
    {
      "cell_type": "markdown",
      "source": [
        "**Gemini**"
      ],
      "metadata": {
        "id": "24HHwXaWsJN7"
      }
    },
    {
      "cell_type": "code",
      "source": [
        "from litellm import completion\n",
        "\n",
        "model1=\"gemini/gemini-1.5-flash\"\n",
        "messages1=[\n",
        "    {\n",
        "        \"role\": \"user\",\n",
        "        \"content\": \"Write a paragraph about AI\"\n",
        "    }\n",
        "  ]\n",
        "\n",
        "response1 = completion(model1, messages=messages1)"
      ],
      "metadata": {
        "id": "4aLAcYs9sDIS"
      },
      "execution_count": 18,
      "outputs": []
    },
    {
      "cell_type": "code",
      "source": [
        "print(response1['choices'][0]['message']['content'])"
      ],
      "metadata": {
        "colab": {
          "base_uri": "https://localhost:8080/"
        },
        "id": "yKDTmIMFw36v",
        "outputId": "914fd801-e673-4314-8498-62879955a316"
      },
      "execution_count": 19,
      "outputs": [
        {
          "output_type": "stream",
          "name": "stdout",
          "text": [
            "Artificial intelligence (AI) is rapidly transforming the world, encompassing a broad range of technologies designed to mimic human intelligence.  From machine learning algorithms that analyze vast datasets to natural language processing enabling computers to understand and respond to human speech, AI's capabilities are constantly expanding.  This progress fuels innovation across diverse sectors, including healthcare, finance, and transportation, while simultaneously raising crucial ethical considerations regarding bias, job displacement, and the potential misuse of powerful algorithms.  The ongoing development and refinement of AI represent a pivotal technological shift with profound implications for society's future.\n",
            "\n"
          ]
        }
      ]
    },
    {
      "cell_type": "markdown",
      "source": [
        "**Groq**"
      ],
      "metadata": {
        "id": "isQ-qwYVyGyw"
      }
    },
    {
      "cell_type": "code",
      "source": [
        "model2=\"groq/llama3-8b-8192\"\n",
        "messages2=[\n",
        "    {\n",
        "        \"role\": \"user\",\n",
        "        \"content\": \"Write a paragraph about AI\"\n",
        "    }\n",
        "  ]\n",
        "\n",
        "response2 = completion(model2, messages=messages2)"
      ],
      "metadata": {
        "id": "ryhDhNThyRRo"
      },
      "execution_count": 20,
      "outputs": []
    },
    {
      "cell_type": "code",
      "source": [
        "print(response2['choices'][0]['message']['content'])"
      ],
      "metadata": {
        "colab": {
          "base_uri": "https://localhost:8080/"
        },
        "id": "-mpqFHKeyaKh",
        "outputId": "2c7f21dc-e71e-4e74-ff3a-c4682b158954"
      },
      "execution_count": 21,
      "outputs": [
        {
          "output_type": "stream",
          "name": "stdout",
          "text": [
            "Artificial Intelligence (AI) has revolutionized the way we live, work, and interact with the world. AI refers to the development of computer systems that can perform tasks that would typically require human intelligence, such as learning, reasoning, and problem-solving. From virtual assistants like Siri and Alexa to self-driving cars and medical diagnosis tools, AI is transforming industries and changing the way we approach complex problems. With the advent of machine learning and deep learning techniques, AI systems can now analyze vast amounts of data, identify patterns, and make predictions with remarkable accuracy. As AI continues to evolve, it has the potential to improve healthcare outcomes, enhance customer service, and optimize business operations, making it an exciting and rapidly growing field that is shaping the future of human society.\n"
          ]
        }
      ]
    },
    {
      "cell_type": "markdown",
      "source": [
        "**4. Handling Streaming Responses:**"
      ],
      "metadata": {
        "id": "mxCCySG7y2_g"
      }
    },
    {
      "cell_type": "markdown",
      "source": [
        "**Gemini**"
      ],
      "metadata": {
        "id": "eN6g-MzYy-bc"
      }
    },
    {
      "cell_type": "code",
      "source": [
        "response1 = completion(model1, messages=messages1, stream=True)\n",
        "\n",
        "for part in response1:\n",
        "    print(part['choices'][0]['delta'].get('content', ''), end='')\n",
        "    print(\"\")"
      ],
      "metadata": {
        "colab": {
          "base_uri": "https://localhost:8080/"
        },
        "id": "PwoUgbTjy3_O",
        "outputId": "c2dd28f5-9e7c-4ca8-a94f-becd556234c2"
      },
      "execution_count": 25,
      "outputs": [
        {
          "output_type": "stream",
          "name": "stdout",
          "text": [
            "Artificial\n",
            " intelligence (AI) is rapidly transforming numerous aspects of modern life.  From self\n",
            "-driving cars and medical diagnoses to personalized recommendations and sophisticated language models, AI systems\n",
            " are becoming increasingly prevalent.  These systems, built upon algorithms and vast datasets, learn from data to perform tasks that typically require human intelligence, such as visual perception\n",
            ", speech recognition, decision-making, and translation. While offering immense potential benefits, the development and deployment of AI also raise important ethical considerations concerning bias, job\n",
            " displacement, and the potential for misuse, highlighting the need for responsible innovation and careful regulation.\n",
            "\n",
            "None\n"
          ]
        }
      ]
    },
    {
      "cell_type": "markdown",
      "source": [
        "**Groq**"
      ],
      "metadata": {
        "id": "W9U47WHwzFzH"
      }
    },
    {
      "cell_type": "code",
      "source": [
        "response2 = completion(model2, messages=messages2, stream=True)\n",
        "\n",
        "for part in response2:\n",
        "    print(part['choices'][0]['delta'].get('content', ''), end='')\n",
        "    print(\" \")"
      ],
      "metadata": {
        "colab": {
          "base_uri": "https://localhost:8080/"
        },
        "id": "wwop7vwBzKvy",
        "outputId": "d0c75d1c-b8a1-4ad0-a418-242600736685"
      },
      "execution_count": 26,
      "outputs": [
        {
          "output_type": "stream",
          "name": "stdout",
          "text": [
            "Art \n",
            "ificial \n",
            " intelligence \n",
            " ( \n",
            "AI \n",
            ") \n",
            " refers \n",
            " to \n",
            " the \n",
            " development \n",
            " of \n",
            " computer \n",
            " systems \n",
            " that \n",
            " can \n",
            " perform \n",
            " tasks \n",
            " that \n",
            " typically \n",
            " require \n",
            " human \n",
            " intelligence \n",
            ", \n",
            " such \n",
            " as \n",
            " learning \n",
            ", \n",
            " problem \n",
            "-solving \n",
            ", \n",
            " and \n",
            " decision \n",
            "-making \n",
            ". \n",
            " AI \n",
            " systems \n",
            " can \n",
            " be \n",
            " trained \n",
            " on \n",
            " vast \n",
            " amounts \n",
            " of \n",
            " data \n",
            " to \n",
            " recognize \n",
            " patterns \n",
            ", \n",
            " make \n",
            " predictions \n",
            ", \n",
            " and \n",
            " take \n",
            " actions \n",
            ", \n",
            " freeing \n",
            " humans \n",
            " from \n",
            " repetitive \n",
            " and \n",
            " mundane \n",
            " tasks \n",
            ". \n",
            " AI \n",
            " has \n",
            " the \n",
            " potential \n",
            " to \n",
            " revolution \n",
            "ize \n",
            " industries \n",
            " such \n",
            " as \n",
            " healthcare \n",
            ", \n",
            " finance \n",
            ", \n",
            " and \n",
            " transportation \n",
            ", \n",
            " and \n",
            " is \n",
            " being \n",
            " used \n",
            " to \n",
            " develop \n",
            " autonomous \n",
            " vehicles \n",
            ", \n",
            " personalize \n",
            " customer \n",
            " experiences \n",
            ", \n",
            " and \n",
            " diagnose \n",
            " diseases \n",
            " more \n",
            " accurately \n",
            ". \n",
            " Additionally \n",
            ", \n",
            " AI \n",
            " can \n",
            " assist \n",
            " humans \n",
            " in \n",
            " tasks \n",
            " such \n",
            " as \n",
            " image \n",
            " and \n",
            " speech \n",
            " recognition \n",
            ", \n",
            " natural \n",
            " language \n",
            " processing \n",
            ", \n",
            " and \n",
            " expert \n",
            " systems \n",
            ", \n",
            " making \n",
            " it \n",
            " an \n",
            " exciting \n",
            " and \n",
            " rapidly \n",
            " evolving \n",
            " field \n",
            " that \n",
            " promises \n",
            " to \n",
            " transform \n",
            " the \n",
            " way \n",
            " we \n",
            " live \n",
            " and \n",
            " work \n",
            ". \n",
            "None \n"
          ]
        }
      ]
    },
    {
      "cell_type": "markdown",
      "source": [
        "**5. Exception Handling:**"
      ],
      "metadata": {
        "id": "fvs0qJ8lz5Wz"
      }
    },
    {
      "cell_type": "markdown",
      "source": [
        "**6. Logging and Observability:**"
      ],
      "metadata": {
        "id": "u1EvfRTe1YG-"
      }
    }
  ]
}